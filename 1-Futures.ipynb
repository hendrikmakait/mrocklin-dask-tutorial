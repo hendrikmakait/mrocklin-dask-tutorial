{
 "cells": [
  {
   "cell_type": "markdown",
   "id": "f04a0743-3d30-44ae-945b-c159160deaaf",
   "metadata": {},
   "source": [
    "<img src=\"images/coiled-logo.svg\"\n",
    "     align=\"right\"\n",
    "     width=\"5%\"\n",
    "     alt=\"Coiled logo\\\">\n",
    "\n",
    "### Sign up for the next live session at https://www.coiled.io/tutorials\n"
   ]
  },
  {
   "cell_type": "markdown",
   "id": "3786371b-cdd0-473b-89bd-94573b3676b5",
   "metadata": {},
   "source": [
    "<img src=\"http://dask.readthedocs.io/en/latest/_images/dask_horizontal.svg\"\n",
    "     align=\"right\"\n",
    "     width=\"30%\"\n",
    "     alt=\"Dask logo\\\">\n",
    "     \n",
    "# Parallelize Python with <br/> Dask Futures\n",
    "\n",
    "In this lesson we will normal for-loopy Python code that looks like this:\n",
    "\n",
    "```python\n",
    "urls = [...]\n",
    "results = []\n",
    "for url in urls:\n",
    "    page = download(url)\n",
    "    result = process(page)\n",
    "    results.append(result)\n",
    "```\n",
    "\n",
    "Or mor dynamic Python code that looks like this:\n",
    "\n",
    "```python\n",
    "urls = [...]\n",
    "results = []\n",
    "while urls:\n",
    "    url = urls.pop()\n",
    "    page = download(url)\n",
    "    result = process(page)\n",
    "    results.append(result)\n",
    "    \n",
    "    new_urls = scrape(page)\n",
    "    urls.extend(new_urls)\n",
    "```\n",
    "\n",
    "And parallelize it out into a dynamic task graph (image right) and then run that code in parallel.  \n",
    "\n",
    "This will give us the foundation of parallel computing used by Dask.  In future examples we'll see how other library developers have used this to give us higher level parallel APIs .\n"
   ]
  },
  {
   "cell_type": "markdown",
   "id": "e5eca4d3-0a1a-4b30-946b-676fa0daa32b",
   "metadata": {},
   "source": [
    "\n",
    "\n",
    "## Outline\n",
    "\n",
    "We will learn how to use futures, and then use them on a real-world example, first in a simple case, and then in a complex case:\n",
    "\n",
    "1.  (Learn) How to use Features \n",
    "2.  (Do) Use futures to download and parse webpages\n",
    "3.  (Learn) Dynamic/changing workloads\n",
    "4.  (Do) Crawl and scrape a website\n",
    "\n"
   ]
  },
  {
   "cell_type": "markdown",
   "id": "c1810a74-7c2b-41bd-b795-3b1a9aba71b7",
   "metadata": {},
   "source": [
    "\n",
    "## 1.  (Learn) How to use Futures\n",
    "\n"
   ]
  },
  {
   "cell_type": "markdown",
   "id": "80a6e52b-c243-43e9-b255-bd60d6f142ca",
   "metadata": {
    "tags": []
   },
   "source": [
    "### Parallel Code with low-level Futures\n",
    "\n",
    "This is an example of an embarrassingly parallel computation.  We want to run the same Python code on many pieces of data.  This is a very simple and also very common case that comes up all the time.\n",
    "\n",
    "Let's learn how to do this with [Dask futures](https://docs.dask.org/en/stable/futures.html)\n",
    "\n",
    "First, we're going to see a very simple example, then we'll try to parallelize the code above.\n"
   ]
  },
  {
   "cell_type": "markdown",
   "id": "01cf74da-c8d7-402a-ab4e-09785061c70e",
   "metadata": {},
   "source": [
    "### Set up a Dask cluster locally"
   ]
  },
  {
   "cell_type": "code",
   "execution_count": null,
   "id": "f512e342-4446-4b23-ab78-7d6bb4405e77",
   "metadata": {},
   "outputs": [],
   "source": [
    "from dask.distributed import Client\n",
    "\n",
    "client = Client()\n",
    "client"
   ]
  },
  {
   "cell_type": "markdown",
   "id": "8f4478ef-fc35-4e26-a1de-7ecd690ead1f",
   "metadata": {},
   "source": [
    "### Dask Futures introduction"
   ]
  },
  {
   "cell_type": "code",
   "execution_count": null,
   "id": "d7e89388-eea3-4c66-ae63-ebe792806f5c",
   "metadata": {},
   "outputs": [],
   "source": [
    "import time\n",
    "import random\n",
    "\n",
    "def inc(x):\n",
    "    time.sleep(random.random())\n",
    "    return x + 1\n",
    "\n",
    "def double(x):\n",
    "    time.sleep(random.random())\n",
    "    return 2 * x\n",
    "\n",
    "def add(x, y):\n",
    "    time.sleep(random.random())\n",
    "    return 2 * x\n",
    "    "
   ]
  },
  {
   "cell_type": "markdown",
   "id": "491cc8d1-1a37-4d3f-b9ab-fa27d6283771",
   "metadata": {},
   "source": [
    "Dask futures lets us run Python functions remotely on parallel hardware.  Rather than calling the function directly:"
   ]
  },
  {
   "cell_type": "code",
   "execution_count": null,
   "id": "784cdc94-c20c-4d4a-93c8-5f390671fa18",
   "metadata": {},
   "outputs": [],
   "source": [
    "%%time\n",
    "\n",
    "y = inc(10)\n",
    "z = double(y)\n",
    "z"
   ]
  },
  {
   "cell_type": "markdown",
   "id": "be50d006-c1c3-4796-9240-9b42048f09be",
   "metadata": {},
   "source": [
    "We can ask Dask to run that function, `slowinc` on the data `10` by passing each as arguments into the `client.submit` method.  The first argument is the function to call and the rest of the arguments are arguments to that function.\n",
    "\n",
    "Normal Execution\n",
    "\n",
    "```python\n",
    "result = function(*args, **kwargs)\n",
    "```\n",
    "\n",
    "Submit function for remote execution\n",
    "\n",
    "```python\n",
    "future = client.submit(function, *args, **kwargs)  # instantaneously fire off work\n",
    "...\n",
    "result = future.result()  # when we need, block until done and collect the result\n",
    "```"
   ]
  },
  {
   "cell_type": "code",
   "execution_count": null,
   "id": "acbde717-4779-4679-b21a-e7e46b8a8ea9",
   "metadata": {},
   "outputs": [],
   "source": [
    "%%time\n",
    "\n",
    "y = client.submit(inc, 10)\n",
    "z = client.submit(double, y)\n",
    "z"
   ]
  },
  {
   "cell_type": "markdown",
   "id": "2bb7b612-e8e6-4df9-8931-291e1c4e37d1",
   "metadata": {},
   "source": [
    "You'll notice that that happened immediately.  That's because all we did was submit the `inc` function to run on Dask, and then return a `Future`, or a pointer to where the data will eventually be.\n",
    "\n",
    "We can gather the future by calling `future.result()`"
   ]
  },
  {
   "cell_type": "code",
   "execution_count": null,
   "id": "d19b2bb0-8d16-4fc7-bf34-f62272c8bdf9",
   "metadata": {},
   "outputs": [],
   "source": [
    "z"
   ]
  },
  {
   "cell_type": "code",
   "execution_count": null,
   "id": "92857028-91f6-4c52-8ded-1b90824ff591",
   "metadata": {},
   "outputs": [],
   "source": [
    "z.result()"
   ]
  },
  {
   "cell_type": "markdown",
   "id": "41f0e330-f7da-43c5-b14c-fb23ea527663",
   "metadata": {},
   "source": [
    "## Submit many tasks in a loop\n",
    "\n",
    "We can submit lots of functions to run at once, and then gather them when we're done.  This allows us to easily parallelize simple for loops.\n",
    "\n",
    "*This section uses the following API*:\n",
    "\n",
    "-  [Client.submit and Future.result](https://docs.dask.org/en/stable/futures.html#submit-tasks)\n"
   ]
  },
  {
   "cell_type": "markdown",
   "id": "cc323bbf-fadb-4ced-8cc5-ac4434de93f5",
   "metadata": {},
   "source": [
    "### Sequential code"
   ]
  },
  {
   "cell_type": "code",
   "execution_count": null,
   "id": "27af5073-7276-477b-8a26-7b87e58c7e93",
   "metadata": {},
   "outputs": [],
   "source": [
    "%%time \n",
    "\n",
    "data = [1, 2, 3, 4, 5, 6, 7, 8, 9, 10]\n",
    "results = []\n",
    "\n",
    "for x in data:\n",
    "    y = inc(x)\n",
    "    z = double(y)\n",
    "    results.append(z)\n",
    "    \n",
    "results"
   ]
  },
  {
   "cell_type": "markdown",
   "id": "1426a61d-971f-44df-bfc0-21806d3d673d",
   "metadata": {},
   "source": [
    "### Parallel code"
   ]
  },
  {
   "cell_type": "code",
   "execution_count": null,
   "id": "684ecb0c-9dc8-4aaf-af84-3d3114ca9fe6",
   "metadata": {},
   "outputs": [],
   "source": [
    "%%time \n",
    "\n",
    "data = [1, 2, 3, 4, 5, 6, 7, 8, 9, 10]\n",
    "results = []\n",
    "\n",
    "for x in data:\n",
    "    y = client.submit(inc, x)\n",
    "    z = client.submit(double, y)\n",
    "    results.append(z)\n",
    "    \n",
    "results = client.gather(results)\n",
    "results"
   ]
  },
  {
   "cell_type": "markdown",
   "id": "e5675eb0-5533-457e-9ee1-da574300dc9c",
   "metadata": {},
   "source": [
    "## Lessons:\n",
    "\n",
    "1.  Submit a function to run elsewhere\n",
    "\n",
    "    ```python\n",
    "    y = f(x)\n",
    "    future = client.submit(f, x)\n",
    "    ```\n",
    "    \n",
    "    \n",
    "2.  Get results when you're done\n",
    "\n",
    "    ```python\n",
    "    y = future.result()\n",
    "    # or \n",
    "    results = client.gather(futures)\n",
    "    ```"
   ]
  },
  {
   "cell_type": "markdown",
   "id": "2d4cc17e-25c1-4fef-a0a4-697bf67fa099",
   "metadata": {
    "tags": []
   },
   "source": [
    "## 2. (Do) Use futures to download and parse webpages\n",
    "\n",
    "### Sequential Code\n",
    "\n",
    "The code below downloads 50 question pages from a Stack Overflow tag, parses those pages, and collects the title and list of tags from each page.\n",
    "\n",
    "We then count up all the tags to see what are the most popular kinds of questions.  We divide this code into four sections:\n",
    "\n",
    "1.  Define useful functions\n",
    "2.  Get a list of pages to download and scrape\n",
    "3.  Download and scrape\n",
    "4.  Analyze results"
   ]
  },
  {
   "cell_type": "markdown",
   "id": "93e385ba-320b-49c3-8e82-eaec3c190750",
   "metadata": {},
   "source": [
    "#### Define useful functions"
   ]
  },
  {
   "cell_type": "code",
   "execution_count": null,
   "id": "d68476f8-ab20-4f34-b3a2-e5a063c39835",
   "metadata": {},
   "outputs": [],
   "source": [
    "import re\n",
    "import requests\n",
    "from bs4 import BeautifulSoup\n",
    "import time\n",
    "\n",
    "def download(url: str, delay=0) -> str:\n",
    "    time.sleep(delay)\n",
    "    response = requests.get(url)\n",
    "    if response.status_code == 200:\n",
    "        return response.text\n",
    "    else:\n",
    "        response.raise_for_status()\n",
    "        \n",
    "        \n",
    "def scrape_title(body: str) -> str:\n",
    "    html = BeautifulSoup(body, \"html.parser\")\n",
    "    return str(html.html.title)\n",
    "\n",
    "\n",
    "def scrape_question_links(body: str, base_url=\"\") -> list[str]:\n",
    "    html = BeautifulSoup(body, \"html.parser\")\n",
    "    \n",
    "    return [\n",
    "        str(base_url + link.attrs[\"href\"]).split(\"?\")[0]\n",
    "        for link in html.find_all(\"a\") \n",
    "        if re.match(\"/questions/\\d{5}\", link.attrs.get(\"href\", \"\"))\n",
    "    ]\n",
    "\n",
    "\n",
    "def scrape_tags(body: str) -> list[str]:\n",
    "    html = BeautifulSoup(body, \"html.parser\")\n",
    "    \n",
    "    return sorted({\n",
    "        str(list(link.children)[0])\n",
    "        for link in html.find_all(\"a\", class_=\"post-tag\")\n",
    "    })"
   ]
  },
  {
   "cell_type": "markdown",
   "id": "c55e8b99-ce1b-4c0d-8c9d-6e9db2b47339",
   "metadata": {},
   "source": [
    "#### Get list of pages to download and scrape"
   ]
  },
  {
   "cell_type": "code",
   "execution_count": null,
   "id": "a4da310d-aab4-4e52-8597-77dc8a6432e5",
   "metadata": {},
   "outputs": [],
   "source": [
    "url = \"https://stackoverflow.com/questions/tagged/pandas\"\n",
    "body = download(url)\n",
    "urls = scrape_question_links(body, base_url=\"https://stackoverflow.com\")\n",
    "urls[:5]"
   ]
  },
  {
   "cell_type": "markdown",
   "id": "b0fae6d1-d0e2-46df-b130-e13655d8d981",
   "metadata": {},
   "source": [
    "#### Download and scrape"
   ]
  },
  {
   "cell_type": "code",
   "execution_count": null,
   "id": "a7ee1f7d-f0de-42a0-b99d-173103a39b20",
   "metadata": {},
   "outputs": [],
   "source": [
    "%%time\n",
    "\n",
    "all_tags = []\n",
    "titles = []\n",
    "\n",
    "for url in urls:\n",
    "    page = download(url)\n",
    "    print(\".\", end=\"\")\n",
    "    tags = scrape_tags(page)\n",
    "    title = scrape_title(page)\n",
    "    \n",
    "    all_tags.append(tags)\n",
    "    titles.append(title)\n",
    "print()"
   ]
  },
  {
   "cell_type": "markdown",
   "id": "199ed8c4-9f9e-47bd-9ac9-a6453729c6a9",
   "metadata": {},
   "source": [
    "#### Analyze Results\n",
    "\n",
    "Aggregate tags to find related topics"
   ]
  },
  {
   "cell_type": "code",
   "execution_count": null,
   "id": "bba06861-4b0d-4e21-af30-875129713d83",
   "metadata": {},
   "outputs": [],
   "source": [
    "import collections\n",
    "\n",
    "tag_counter = collections.defaultdict(int)\n",
    "\n",
    "for tags in all_tags:\n",
    "    for tag in tags:\n",
    "        tag_counter[tag] += 1\n",
    "        \n",
    "sorted(tag_counter.items(), key=lambda kv: kv[1], reverse=True)[:10]"
   ]
  },
  {
   "cell_type": "markdown",
   "id": "55a5f41f-ad62-4503-ad1c-ab68d9a9869c",
   "metadata": {},
   "source": [
    "### Exercise: Parallelize this code\n",
    "\n",
    "Take the code above, and use Dask futures to run it in parallel\n",
    "\n",
    "Which sections should we think about parallelizing?"
   ]
  },
  {
   "cell_type": "code",
   "execution_count": null,
   "id": "bd3e7682-7220-480a-9ca3-4278a5383e8c",
   "metadata": {},
   "outputs": [],
   "source": [
    "url = \"https://stackoverflow.com/questions/tagged/pandas\"\n",
    "body = download(url)\n",
    "urls = scrape_question_links(body, base_url=\"https://stackoverflow.com\")"
   ]
  },
  {
   "cell_type": "code",
   "execution_count": null,
   "id": "91f71522-5808-4950-92a5-f25bdc769a29",
   "metadata": {},
   "outputs": [],
   "source": [
    "%%time\n",
    "\n",
    "all_tags = []\n",
    "titles = []\n",
    "\n",
    "for url in urls:\n",
    "    page = download(url)\n",
    "    print(\".\", end=\"\")\n",
    "    tags = scrape_tags(page)\n",
    "    title = scrape_title(page)\n",
    "    \n",
    "    all_tags.append(tags)\n",
    "    titles.append(title)\n",
    "print()"
   ]
  },
  {
   "cell_type": "markdown",
   "id": "5a430e17-5bca-4b48-b914-95657515867e",
   "metadata": {
    "tags": []
   },
   "source": [
    "##### Solution"
   ]
  },
  {
   "cell_type": "code",
   "execution_count": null,
   "id": "1da9e012-31dc-4339-ab33-5ea38712ad65",
   "metadata": {
    "jupyter": {
     "source_hidden": true
    },
    "tags": []
   },
   "outputs": [],
   "source": [
    "%%time\n",
    "\n",
    "all_tags = []\n",
    "titles = []\n",
    "\n",
    "for url in urls:\n",
    "    page = client.submit(download, url)\n",
    "    tags = client.submit(scrape_tags, page)\n",
    "    title = client.submit(scrape_title, page)\n",
    "    \n",
    "    all_tags.append(tags)\n",
    "    titles.append(title)\n",
    "    \n",
    "all_tags = client.gather(all_tags)\n",
    "titles = client.gather(titles)"
   ]
  },
  {
   "cell_type": "code",
   "execution_count": null,
   "id": "0f5df132-43d8-40ce-934e-eb0735a86519",
   "metadata": {},
   "outputs": [],
   "source": [
    "import collections\n",
    "\n",
    "tag_counter = collections.defaultdict(int)\n",
    "\n",
    "for tags in all_tags:\n",
    "    for tag in tags:\n",
    "        tag_counter[tag] += 1\n",
    "        \n",
    "sorted(tag_counter.items(), key=lambda kv: kv[1], reverse=True)[:10]"
   ]
  },
  {
   "cell_type": "markdown",
   "id": "648048f6-53d8-4e64-a0cf-f3aa5c841ed6",
   "metadata": {},
   "source": [
    "### Exercise:  Scale out\n",
    "\n",
    "There are different reasons to scale out for this problem:\n",
    "\n",
    "1.  Parallelize bandwidth\n",
    "2.  StackOverflow's rate-limits won't affect us as much if we spread out our requests from many different machines\n",
    "3.  ~CPU Processing speed~ (not really an issue here)\n",
    "\n",
    "Let's ask for some machines from Coiled, and switch our Dask client to use that cluster."
   ]
  },
  {
   "cell_type": "code",
   "execution_count": null,
   "id": "f57c5ed2-5103-4811-b1ee-781046c16649",
   "metadata": {},
   "outputs": [],
   "source": [
    "client.close()"
   ]
  },
  {
   "cell_type": "code",
   "execution_count": null,
   "id": "4ded7332-a475-40f6-a7b2-01f017573c35",
   "metadata": {},
   "outputs": [],
   "source": [
    "import coiled\n",
    "\n",
    "cluster = coiled.Cluster(\n",
    "    n_workers=20,\n",
    "    worker_cpu=2,\n",
    "    worker_options={\"nthreads\": 1},\n",
    ")\n",
    "\n",
    "client = cluster.get_client()"
   ]
  },
  {
   "attachments": {
    "dbc8e0aa-6a12-436a-aef4-f8253b1739d7.png": {
     "image/png": "[encoded data removed]"
    }
   },
   "cell_type": "markdown",
   "id": "92acc786-81bd-49cd-867f-66b3346d0890",
   "metadata": {},
   "source": [
    "You can then insert the Dashboard URL into the text field at the top of the Dask JupyterLab extension sidebar, or press the Magnifying Glass icon (🔍) in the upper right of that section.\n",
    "\n",
    "This will change your dashboard plots to the new cluster.\n",
    "\n",
    "![Screen Shot 2023-05-08 at 10.36.36 AM.png](attachment:dbc8e0aa-6a12-436a-aef4-f8253b1739d7.png)"
   ]
  },
  {
   "cell_type": "markdown",
   "id": "4a1d539e-b1ba-467f-bb13-b8b3a4168778",
   "metadata": {},
   "source": [
    "Now rerun your computation and see how it feels."
   ]
  },
  {
   "cell_type": "markdown",
   "id": "ba1bd389-7495-48be-9efb-78b4a3e46415",
   "metadata": {},
   "source": [
    "## 3. (Learn) Evolving computations\n",
    "\n",
    "Dask futures are flexible.  There are many ways to coordinate them including ...\n",
    "\n",
    "1.  Distributed locks and semaphores\n",
    "2.  Distributed queues\n",
    "3.  Launching tasks from tasks\n",
    "4.  Global variables\n",
    "5.  ... [and lots more](https://docs.dask.org/en/stable/futures.html)\n",
    "\n",
    "We're going to get a taste of this by learning about one Dask futures feature, [`as_completed`](https://docs.dask.org/en/stable/futures.html#distributed.as_completed), which lets us dynamically build up a computation as it completes.\n",
    "\n",
    "We will use this to build a parallel web crawler over Stack Overflow.  \n",
    "\n",
    "1.  First, we'll build this sequentially.\n",
    "2.  Second, we'll learn how `as_completed` works in a simple example\n",
    "3.  Third, we'll convert the sequential code into parallel code"
   ]
  },
  {
   "cell_type": "markdown",
   "id": "9b814665-7240-43ae-95f9-6fa860da8c2f",
   "metadata": {},
   "source": [
    "### Sequential Code to Crawl Stack Overflow"
   ]
  },
  {
   "cell_type": "code",
   "execution_count": null,
   "id": "7350e302-f792-448d-bc41-4afd0bf527ad",
   "metadata": {
    "tags": []
   },
   "outputs": [],
   "source": [
    "%%time\n",
    "from collections import deque\n",
    "\n",
    "urls = deque()\n",
    "urls.append(\"https://stackoverflow.com/questions/tagged/dask\")  # seed with a single page\n",
    "\n",
    "all_tags = []\n",
    "titles = []\n",
    "seen = set()\n",
    "i = 0\n",
    "\n",
    "while urls and i < 10:\n",
    "    url = urls.popleft()\n",
    "    \n",
    "    # Don't scrape the same page twice\n",
    "    if url in seen:  \n",
    "        continue\n",
    "    else:\n",
    "        seen.add(url)\n",
    "    \n",
    "    print(\".\", end=\"\")\n",
    "    i += 1\n",
    "    \n",
    "    # This is like before\n",
    "    page = download(url)\n",
    "    tags = scrape_tags(page)\n",
    "    title = scrape_title(page)\n",
    "    all_tags.append(tags)\n",
    "    titles.append(title)\n",
    "\n",
    "    # This is new!  \n",
    "    # We scrape links on this page, and add them to the list of URLs\n",
    "    new_urls = scrape_question_links(page, base_url=\"https://stackoverflow.com\")\n",
    "    urls.extend(new_urls)"
   ]
  },
  {
   "cell_type": "code",
   "execution_count": null,
   "id": "1239abe4-3c3e-44f0-a0dd-825b9520360e",
   "metadata": {
    "tags": []
   },
   "outputs": [],
   "source": [
    "titles"
   ]
  },
  {
   "cell_type": "code",
   "execution_count": null,
   "id": "f18c4b87-5dd3-41b3-9856-2c79f00d3aa5",
   "metadata": {
    "tags": []
   },
   "outputs": [],
   "source": [
    "all_tags"
   ]
  },
  {
   "cell_type": "markdown",
   "id": "1a919f2b-1fe2-44dd-b3e6-36eb8c08756a",
   "metadata": {},
   "source": [
    "### Learn about `as_completed`\n",
    "\n",
    "Let's use our `inc`/`dec` example from before, and add up the results as they come in."
   ]
  },
  {
   "cell_type": "code",
   "execution_count": null,
   "id": "be90ffe7-27e1-4178-8bb1-49c5b7f9a70a",
   "metadata": {},
   "outputs": [],
   "source": [
    "%%time \n",
    "\n",
    "total = 0\n",
    "\n",
    "for x in range(16):\n",
    "    y = inc(x)\n",
    "    z = double(y)\n",
    "    total += z\n",
    "    print(\"Total:\", total, end=\"\\r\")"
   ]
  },
  {
   "cell_type": "code",
   "execution_count": null,
   "id": "357dff8d-836d-436b-91b7-f5a0a0f87765",
   "metadata": {},
   "outputs": [],
   "source": [
    "%%time \n",
    "\n",
    "total = 0\n",
    "futures = as_completed()\n",
    "\n",
    "for x in range(200):\n",
    "    y = client.submit(inc, x)\n",
    "    z = client.submit(double, y)\n",
    "    futures.add(z)\n",
    "\n",
    "while futures.count() > 1:\n",
    "    a = futures.next()\n",
    "    b = futures.next()\n",
    "    c = client.submit(add, a, b)\n",
    "    futures.add(c)\n",
    "    print(\"Some results:\", a.result(), b.result(), end=\"\\r\")\n",
    "    \n",
    "total = futures.next().result()\n",
    "print(\"Final Result:\", total)"
   ]
  },
  {
   "cell_type": "markdown",
   "id": "e82279ad-3352-4664-b351-f3690e05a819",
   "metadata": {},
   "source": [
    "### Exercise: Parallelize code to crawl Stack Overflow"
   ]
  },
  {
   "cell_type": "code",
   "execution_count": null,
   "id": "dcf0e2ca-e3ea-4dd9-be27-a37fd852b47a",
   "metadata": {
    "tags": []
   },
   "outputs": [],
   "source": [
    "%%time\n",
    "from collections import deque\n",
    "from dask.distributed import as_completed\n",
    "\n",
    "urls = deque()\n",
    "urls.append(\"https://stackoverflow.com/questions/tagged/jupyter\")  # seed with a single page\n",
    "\n",
    "all_tags = []\n",
    "titles = []\n",
    "url_futures = as_completed()\n",
    "seen = set()\n",
    "i = 0\n",
    "\n",
    "while urls or not url_futures.is_empty() and i < 1000:\n",
    "    if not urls:\n",
    "        future = url_futures.next()\n",
    "        new_urls = future.result()\n",
    "        urls.extend(new_urls)\n",
    "        continue\n",
    "    \n",
    "    url = urls.popleft()\n",
    "    \n",
    "    if url in seen:\n",
    "        continue\n",
    "    else:\n",
    "        seen.add(url)\n",
    "    \n",
    "    print(\".\", end=\"\")\n",
    "    i += 1\n",
    "\n",
    "    page = client.submit(download, url, delay=0.25)\n",
    "    tags = client.submit(scrape_tags, page)\n",
    "    title = client.submit(scrape_title, page)\n",
    "\n",
    "    new_urls = client.submit(scrape_question_links, page, base_url=\"https://stackoverflow.com\")\n",
    "    url_futures.add(new_urls)\n",
    "\n",
    "    all_tags.append(tags)\n",
    "    titles.append(title)"
   ]
  },
  {
   "cell_type": "code",
   "execution_count": null,
   "id": "11ec75ee-9dc4-4d2b-a251-b21a88122934",
   "metadata": {
    "tags": []
   },
   "outputs": [],
   "source": [
    "client.gather(titles[:20])"
   ]
  },
  {
   "cell_type": "code",
   "execution_count": null,
   "id": "399bec76-291b-4a82-8c35-3bbca648279e",
   "metadata": {},
   "outputs": [],
   "source": [
    "all_tags = client.gather(all_tags)"
   ]
  },
  {
   "cell_type": "code",
   "execution_count": null,
   "id": "41e5d085-cd39-4f6e-b82b-5a9913d4bc44",
   "metadata": {},
   "outputs": [],
   "source": [
    "import collections\n",
    "\n",
    "tag_counter = collections.defaultdict(int)\n",
    "\n",
    "for tags in all_tags:\n",
    "    for tag in tags:\n",
    "        tag_counter[tag] += 1\n",
    "        \n",
    "sorted(tag_counter.items(), key=lambda kv: kv[1], reverse=True)[:20]"
   ]
  },
  {
   "cell_type": "code",
   "execution_count": null,
   "id": "e6bebd77-c616-4899-9f38-d1a5d33b554d",
   "metadata": {},
   "outputs": [],
   "source": [
    "import time\n",
    "\n",
    "import pandas as pd\n",
    "import requests\n",
    "from bs4 import BeautifulSoup"
   ]
  },
  {
   "cell_type": "code",
   "execution_count": null,
   "id": "485fe9fe-da20-4e17-98be-3572f32077d8",
   "metadata": {},
   "outputs": [],
   "source": [
    "def get_title(page_num):\n",
    "    \"\"\" Get title of a SO questions page\"\"\"\n",
    "    url = f\"https://stackoverflow.com/questions?tab=newest&page={page_num}\"\n",
    "    req = requests.get(url)\n",
    "    html = BeautifulSoup(req.text, \"html.parser\")\n",
    "\n",
    "    return html.title.text"
   ]
  },
  {
   "cell_type": "code",
   "execution_count": null,
   "id": "033f1c7e-0769-439b-a640-b3bfeb3b3969",
   "metadata": {
    "tags": []
   },
   "outputs": [],
   "source": [
    "page_2 = get_questions_page_title(2)\n",
    "page_2"
   ]
  },
  {
   "cell_type": "markdown",
   "id": "486c8e08-7044-4a8e-a1b4-0b4ea93b7d30",
   "metadata": {
    "tags": []
   },
   "source": [
    "### Serial code to get 8 pages would be:"
   ]
  },
  {
   "cell_type": "code",
   "execution_count": null,
   "id": "57f2a7db-3b6b-4a85-bf09-f02c91fa5e05",
   "metadata": {},
   "outputs": [],
   "source": [
    "%%time\n",
    "page_title = []\n",
    "for p in range(1, 9):  # page numbers start in 1\n",
    "    page_title.append(get_questions_page_title(p))"
   ]
  },
  {
   "cell_type": "code",
   "execution_count": null,
   "id": "c903a112-7802-417b-9565-32457fa663c8",
   "metadata": {},
   "outputs": [],
   "source": [
    "page_title[:3]"
   ]
  },
  {
   "cell_type": "markdown",
   "id": "a06d3c08-b560-4abe-9d7b-40cdd41bba2a",
   "metadata": {},
   "source": [
    "### Exercise\n",
    "\n",
    "Run the code in parallel, using futures."
   ]
  },
  {
   "cell_type": "code",
   "execution_count": null,
   "id": "27785fcb-93fe-4197-8133-6744cc02e710",
   "metadata": {},
   "outputs": [],
   "source": [
    "from dask.distributed import Client, wait"
   ]
  },
  {
   "cell_type": "code",
   "execution_count": null,
   "id": "9467a843-1364-4458-b4b4-8d68060c256a",
   "metadata": {},
   "outputs": [],
   "source": [
    "client = Client(n_workers=4)\n",
    "client"
   ]
  },
  {
   "cell_type": "code",
   "execution_count": null,
   "id": "810b134d-c7af-4d34-a1e8-48aef0f16312",
   "metadata": {
    "tags": []
   },
   "outputs": [],
   "source": [
    "# Solution\n",
    "futures = []\n",
    "for p in range(1, 9):\n",
    "    future = client.submit(get_questions_page_title, p)\n",
    "    futures.append(future)\n",
    "\n",
    "futures"
   ]
  },
  {
   "cell_type": "code",
   "execution_count": null,
   "id": "6514a138-a39f-49b2-ae7c-e7b786ea4511",
   "metadata": {
    "tags": []
   },
   "outputs": [],
   "source": [
    "futures[0]"
   ]
  },
  {
   "cell_type": "code",
   "execution_count": null,
   "id": "31f5aad8-1d2c-4a14-9c19-8c2a6e179b3d",
   "metadata": {
    "tags": []
   },
   "outputs": [],
   "source": [
    "futures[0].result()"
   ]
  },
  {
   "cell_type": "code",
   "execution_count": null,
   "id": "84ddfbd4-484d-403f-a219-c848b9982d56",
   "metadata": {
    "tags": []
   },
   "outputs": [],
   "source": [
    "results = [future.result() for future in futures]\n",
    "results"
   ]
  },
  {
   "cell_type": "markdown",
   "id": "d809a1f0-b209-4ad8-b62a-01104eee28a0",
   "metadata": {},
   "source": [
    "**Extra:**\n",
    "\n",
    "To be able to `%%time` the cell and compare times with the serial version, you will need to wait for the futures to finish doing `wait(futures)`. If you try to do that and re run the cell, you will notice it is immediate, this is because by default, distributed assumes that all functions are pure. Pure functions:\n",
    "\n",
    "- always return the same output for a given set of inputs\n",
    "- do not have side effects, like modifying global state or creating files\n",
    "\n",
    " \n",
    "You can use the `pure=False` keyword argument in the `client.submit()`. Modify your solution to match this code\n"
   ]
  },
  {
   "cell_type": "markdown",
   "id": "fe36ccb1-0248-456e-9370-6f9e0bee2ef6",
   "metadata": {
    "tags": []
   },
   "source": [
    "```python\n",
    "%%time\n",
    "futures = []\n",
    "for p in range(1,9):\n",
    "    future = client.submit(get_questions_page_title, p, pure=False)\n",
    "    futures.append(future)\n",
    "    \n",
    "wait(futures)\n",
    "```"
   ]
  },
  {
   "cell_type": "markdown",
   "id": "4019bbbe-de28-49e9-bf4b-ca18aa4afba2",
   "metadata": {},
   "source": [
    "**`client.map()`**\n",
    "\n",
    "With `client.submit()` you can submit individual functions for evaluation with one set of inputs, and together with a `for-loop` you can also evaluate over a sequence of inputs. `client.map()` provides a simpler interface to perform the former, let's see how to perform the example above now using `client.map()`\n"
   ]
  },
  {
   "cell_type": "code",
   "execution_count": null,
   "id": "a8f3eb84-ab8a-491d-a961-fa2bab0bd8c6",
   "metadata": {},
   "outputs": [],
   "source": [
    "futures = client.map(get_questions_page_title, range(1, 9))"
   ]
  },
  {
   "cell_type": "markdown",
   "id": "7a758e9f-a391-4eba-875a-8fd56ab03b03",
   "metadata": {},
   "source": [
    "`client.map()` returns a list of futures, you can block on the computation and gather the result by doing:"
   ]
  },
  {
   "cell_type": "code",
   "execution_count": null,
   "id": "668dfa0e-5dd3-4304-b6d7-e54eadfa5550",
   "metadata": {},
   "outputs": [],
   "source": [
    "res = client.gather(futures)\n",
    "res"
   ]
  },
  {
   "cell_type": "markdown",
   "id": "2829f110-5843-4174-8d2a-b59d0de6b308",
   "metadata": {},
   "source": [
    "### Futures are great...\n",
    "\n",
    "The other big benefit of `futures` is that the intermediate results, represented by `futures`, can be passed to new tasks without having to pull data locally from the cluster. New operations can be setup to work on the output of previous jobs that have not even begun yet.\n",
    "\n",
    "Let's brake our steps into multiple functions\n",
    "\n",
    "- `request_html_page`: given a url returns the html of that page\n",
    "- `get_page_html_links`: given a SO questions page number returns a the html for that page number.\n",
    "- `get_post_links_per_page`: given a SO questions html page, returns a list with the posts of that page.\n",
    "\n",
    "\n",
    "<center>\n",
    "<img src=\"https://raw.githubusercontent.com/coiled/dask-tutorial/main/images/dask_SO_posts_links.png\"\n",
    "     width=\"65%\"\n",
    "     alt=\"dask post links\\\">\n",
    "</center>\n",
    "\n",
    "\n"
   ]
  },
  {
   "cell_type": "code",
   "execution_count": null,
   "id": "524bb7f1-49bd-4045-b3d8-f0a79228064b",
   "metadata": {},
   "outputs": [],
   "source": [
    "def request_html_page(url):\n",
    "    \"\"\"Given a url returns the html of that page\"\"\"\n",
    "    req = requests.get(url)\n",
    "    html = bs(req.text, \"html.parser\")\n",
    "    return html"
   ]
  },
  {
   "cell_type": "code",
   "execution_count": null,
   "id": "25a592e2-b30e-4c5e-8811-854426e34d1f",
   "metadata": {},
   "outputs": [],
   "source": [
    "def get_page_html_links(tag: str, page: int, query_filter=\"MostVotes\"):\n",
    "    \"\"\" Given a SO questions page number returns a the html for that page number\n",
    "    for a tag and query_filter.\n",
    "    \"\"\"\n",
    "    base_url = \"https://stackoverflow.com/questions/tagged/\"\n",
    "\n",
    "    page_url = f\"{base_url}{tag}?sort={query_filter}&page={page_num}\"\n",
    "\n",
    "    page_html = request_html_page(page_url)\n",
    "\n",
    "    return page_html"
   ]
  },
  {
   "cell_type": "code",
   "execution_count": null,
   "id": "2d7c3363-17d0-41fe-81d2-719539681430",
   "metadata": {},
   "outputs": [],
   "source": [
    "response = requests.get(\"https://www.google.com/shfsfhfhfg\")"
   ]
  },
  {
   "cell_type": "code",
   "execution_count": null,
   "id": "8901f6ca-3fef-4d49-80ca-0eed68ac83c4",
   "metadata": {},
   "outputs": [],
   "source": [
    "response.raise_for_status()"
   ]
  },
  {
   "cell_type": "code",
   "execution_count": null,
   "id": "7e53a243-abcc-44a7-ac93-fee7cf9f1b20",
   "metadata": {},
   "outputs": [],
   "source": [
    "import re\n",
    "import requests\n",
    "from bs4 import BeautifulSoup\n",
    "\n",
    "def download(url: str) -> str:\n",
    "    response = requests.get(url)\n",
    "    if response.status_code == 200:\n",
    "        return response.text\n",
    "    else:\n",
    "        response.raise_for_status()\n",
    "        \n",
    "def get_title(body: str) -> str:\n",
    "    html = BeautifulSoup(body, \"html.parser\")\n",
    "    return html.html.title\n",
    "\n",
    "\n",
    "def scrape_question_links(body: str, base_url=\"\") -> list[str]:\n",
    "    html = BeautifulSoup(body, \"html.parser\")\n",
    "    \n",
    "    return [\n",
    "        base_url + link.attrs[\"href\"]\n",
    "        for link in html.find_all(\"a\", class_=\"s-link\") \n",
    "        if re.match(\"/questions/\\d{5}\", link.attrs.get(\"href\", \"\"))\n",
    "    ]\n",
    "\n",
    "def scrape_tags(body: str) -> list[str]:\n",
    "    html = BeautifulSoup(body, \"html.parser\")\n",
    "    \n",
    "    return sorted({\n",
    "        list(link.children)[0]\n",
    "        for link in html.find_all(\"a\", class_=\"post-tag\")\n",
    "    })\n"
   ]
  },
  {
   "cell_type": "code",
   "execution_count": null,
   "id": "0a65e1af-ec1c-4525-8ed6-b147c898c3a0",
   "metadata": {},
   "outputs": [],
   "source": [
    "urls = [\"https://stackoverflow.com/questions/tagged/dask\"]\n",
    "url = urls.pop()\n",
    "\n",
    "body = download(url)\n",
    "title = get_title(body)"
   ]
  },
  {
   "cell_type": "code",
   "execution_count": null,
   "id": "9dd6910d-3d9b-473e-b3c2-8a5b1233823b",
   "metadata": {},
   "outputs": [],
   "source": [
    "title"
   ]
  },
  {
   "cell_type": "code",
   "execution_count": null,
   "id": "1acf644c-ffd2-4939-ac7d-1082e5c485a0",
   "metadata": {},
   "outputs": [],
   "source": [
    "urls = [\"https://stackoverflow.com/questions/tagged/dask\"]\n",
    "url = urls.pop()\n",
    "body = download(url)\n",
    "questions = scrape_question_links(body, base_url=\"https://stackoverflow.com/\")"
   ]
  },
  {
   "cell_type": "code",
   "execution_count": null,
   "id": "86f415fd-9fcb-4e2e-adaa-8bf22a4deace",
   "metadata": {},
   "outputs": [],
   "source": [
    "questions"
   ]
  },
  {
   "cell_type": "code",
   "execution_count": null,
   "id": "154b8ab4-a530-4eff-bbab-1b8a7c48d951",
   "metadata": {},
   "outputs": [],
   "source": [
    "url = questions[1]\n",
    "\n",
    "body = download(url)\n",
    "tags = scrape_tags(body)\n",
    "questions = scrape_question_links(body)"
   ]
  },
  {
   "cell_type": "code",
   "execution_count": null,
   "id": "0a3983bd-1ab3-40bd-ac8a-4bb046f8ffe2",
   "metadata": {},
   "outputs": [],
   "source": [
    "questions"
   ]
  },
  {
   "cell_type": "code",
   "execution_count": null,
   "id": "4f7b9cd5-bb95-4b86-ad12-244ca36e6179",
   "metadata": {},
   "outputs": [],
   "source": [
    "tags"
   ]
  },
  {
   "cell_type": "code",
   "execution_count": null,
   "id": "b553ac0f-4866-4727-8059-73ec32a28f20",
   "metadata": {},
   "outputs": [],
   "source": [
    "print(body)"
   ]
  },
  {
   "cell_type": "code",
   "execution_count": null,
   "id": "85fa04d8-466f-4378-95e5-bd7ca007d659",
   "metadata": {},
   "outputs": [],
   "source": [
    "questions"
   ]
  },
  {
   "cell_type": "code",
   "execution_count": null,
   "id": "64244d16-f72f-4072-8eb4-0229cf7b46d8",
   "metadata": {},
   "outputs": [],
   "source": [
    "debug"
   ]
  },
  {
   "cell_type": "code",
   "execution_count": null,
   "id": "2a9914a0-7f52-44bc-93ab-e364acaa1a86",
   "metadata": {},
   "outputs": [],
   "source": []
  },
  {
   "cell_type": "code",
   "execution_count": null,
   "id": "c7230061-0551-44fd-9014-d75ffc362d3b",
   "metadata": {},
   "outputs": [],
   "source": [
    "def get_post_links_per_page(html_page):\n",
    "    \"\"\"Given a SO questions html page, returns a list with the posts of that page.\"\"\"\n",
    "    question_href = html_page.find_all(\"a\", class_=\"s-link\")[2:-1]\n",
    "\n",
    "    question_link = [f\"https://stackoverflow.com{q['href']}\" for q in question_href]\n",
    "\n",
    "    return question_link"
   ]
  },
  {
   "cell_type": "markdown",
   "id": "78e6bf98-faef-4343-afb3-2e800c3e416e",
   "metadata": {
    "tags": []
   },
   "source": [
    "### Explore the functions:  "
   ]
  },
  {
   "cell_type": "code",
   "execution_count": null,
   "id": "ec60f236-ca40-4964-82a5-4e4a4f27a417",
   "metadata": {},
   "outputs": [],
   "source": [
    "page_url"
   ]
  },
  {
   "cell_type": "code",
   "execution_count": null,
   "id": "84afed9b-8657-4ed7-b8f6-cf39a12e8663",
   "metadata": {},
   "outputs": [],
   "source": [
    "base_url = \"https://stackoverflow.com/questions/tagged/\"\n",
    "tag = \"dask\"\n",
    "query_filter = \"MostVotes\"\n",
    "page_num = 1\n",
    "page_url = f\"{base_url}{tag}?sort={query_filter}&page={page_num}\"\n",
    "page_url = \"https://stackoverflow.com/questions/38882660/at-what-situation-i-can-use-dask-instead-of-apache-spark\"\n",
    "response = requests.get(page_url)\n",
    "html = BeautifulSoup(response.text, \"html.parser\")\n",
    "\n",
    "import re\n",
    "re.match(\"/questions/\\d{5}\", \"/questions/45545110/make-pandas-dataframe-apply-use-all-cores\")\n",
    "\n",
    "import toolz\n",
    "list(toolz.unique([link for link in html.find_all(\"a\", class_=\"post-tag\")]))"
   ]
  },
  {
   "cell_type": "code",
   "execution_count": null,
   "id": "6ef83b67-988f-4567-99bd-b3b7b92ebfe8",
   "metadata": {},
   "outputs": [],
   "source": [
    "re.match(\"/questions/\\d{5}\", \"/questions/45545110/make-pandas-dataframe-apply-use-all-cores\")\n"
   ]
  },
  {
   "cell_type": "code",
   "execution_count": null,
   "id": "c260da84-a977-4e40-9d1e-2ff44fd1a08d",
   "metadata": {},
   "outputs": [],
   "source": [
    "html"
   ]
  },
  {
   "cell_type": "code",
   "execution_count": null,
   "id": "3ecf164d-cffc-4206-b125-e84d3098862b",
   "metadata": {},
   "outputs": [],
   "source": []
  },
  {
   "cell_type": "code",
   "execution_count": null,
   "id": "c5a08d0e-f95a-4677-bb3d-7a3ad477efc9",
   "metadata": {},
   "outputs": [],
   "source": [
    "link = _[5]"
   ]
  },
  {
   "cell_type": "code",
   "execution_count": null,
   "id": "fc552edf-fb1e-4ff4-9013-376f44893f40",
   "metadata": {},
   "outputs": [],
   "source": [
    "link.attrs[\"href\"].startswith(\"/questions\")"
   ]
  },
  {
   "cell_type": "code",
   "execution_count": null,
   "id": "614af67b-1868-4c3b-a212-559ab8136e7f",
   "metadata": {},
   "outputs": [],
   "source": [
    "page_number = 3\n",
    "\n",
    "page_3_html = get_page_html_links(page_num=page_number)"
   ]
  },
  {
   "cell_type": "code",
   "execution_count": null,
   "id": "3318156f-a299-43e1-a08f-d585503938d6",
   "metadata": {},
   "outputs": [],
   "source": [
    "post_links_page_3 = get_post_links_per_page(page_3_html)"
   ]
  },
  {
   "cell_type": "code",
   "execution_count": null,
   "id": "4ce191a0-7746-4fd7-93c5-620e69453c56",
   "metadata": {},
   "outputs": [],
   "source": [
    "len(post_links_page_3)"
   ]
  },
  {
   "cell_type": "code",
   "execution_count": null,
   "id": "4cc7fe9d-5129-431d-92e5-939b8e777252",
   "metadata": {},
   "outputs": [],
   "source": [
    "post_links_page_3[:3]"
   ]
  },
  {
   "cell_type": "markdown",
   "id": "359aeb5d-8c2e-4334-88c8-90d3d7fdcdd2",
   "metadata": {},
   "source": [
    "### Get post links for multiple pages"
   ]
  },
  {
   "cell_type": "code",
   "execution_count": null,
   "id": "532930c8-a46a-4788-990d-0079b149a70b",
   "metadata": {},
   "outputs": [],
   "source": [
    "# serial code\n",
    "page_posts_links = []\n",
    "for page in range(1, 5):\n",
    "    page_html = get_page_html_links(page_num=page)\n",
    "    posts_links = get_post_links_per_page(page_html)\n",
    "\n",
    "    page_posts_links.append(posts_links)"
   ]
  },
  {
   "cell_type": "code",
   "execution_count": null,
   "id": "e7377b99-415b-400d-bc41-38e8142da3c8",
   "metadata": {},
   "outputs": [],
   "source": [
    "len(page_posts_links)"
   ]
  },
  {
   "cell_type": "code",
   "execution_count": null,
   "id": "7ed0ada1-8875-417f-a8b6-a887706b8eb7",
   "metadata": {},
   "outputs": [],
   "source": [
    "[len(l) for l in page_posts_links]"
   ]
  },
  {
   "cell_type": "markdown",
   "id": "d189e69c-648f-4e43-88df-08b3222b943c",
   "metadata": {},
   "source": [
    "**Parallel code: using `client.map()`**\n",
    "\n",
    "We can get first the futures for every page html, and pass those futures as the iterator to get the links per page."
   ]
  },
  {
   "cell_type": "code",
   "execution_count": null,
   "id": "7417901f-f351-48ff-9083-685404f28742",
   "metadata": {},
   "outputs": [],
   "source": [
    "pages_html_futures = client.map(get_page_html_links, range(1, 5))\n",
    "wait(pages_html_futures)  # wait until completed"
   ]
  },
  {
   "cell_type": "markdown",
   "id": "f8443c00-6592-4dbd-b660-80d0453872a8",
   "metadata": {},
   "source": [
    "**`wait()`**\n",
    "\n",
    "Notice that here we used `wait()`, you can wait on a future or collection of futures using the `wait` function, which blocks until all futures are finished or have erred. This is useful when you need the all the futures to be completed to proceed with your computations. "
   ]
  },
  {
   "cell_type": "code",
   "execution_count": null,
   "id": "3f9741ae-24e6-406c-ac69-e52ff5937d8c",
   "metadata": {},
   "outputs": [],
   "source": [
    "pages_html_futures[0]"
   ]
  },
  {
   "cell_type": "markdown",
   "id": "b14229c3-e063-4ebd-996f-ca3b9f449c5f",
   "metadata": {},
   "source": [
    "### Exercise:\n",
    "\n",
    "Using `client.map()` and the `pages_html_futures` you just got, to get the post's links for the four pages, in parallel."
   ]
  },
  {
   "cell_type": "code",
   "execution_count": null,
   "id": "a0c18aaf-dce4-4a18-965f-3fc37e4532b0",
   "metadata": {
    "tags": []
   },
   "outputs": [],
   "source": [
    "# Solution\n",
    "posts_links_futures = client.map(get_post_links_per_page, pages_html_futures)\n",
    "posts_links_futures"
   ]
  },
  {
   "cell_type": "code",
   "execution_count": null,
   "id": "6060850e-0647-431d-ab91-a7bf5015a4f8",
   "metadata": {
    "tags": []
   },
   "outputs": [],
   "source": [
    "posts_links_futures[0]"
   ]
  },
  {
   "cell_type": "code",
   "execution_count": null,
   "id": "9a456089-a046-42f0-8dc5-ce76ea6d6496",
   "metadata": {
    "tags": []
   },
   "outputs": [],
   "source": [
    "posts_links_futures[0].result()[:3]"
   ]
  },
  {
   "cell_type": "markdown",
   "id": "7242493f-9026-40e8-80aa-48e16c8cbff7",
   "metadata": {},
   "source": [
    "**`as_completed()`**\n",
    "\n",
    "In the example above we waited for the the `pages_html_futures` to finish before we proceed to get the `posts_links_futures`. However, we can get the `post_links_futures` for every page as the `pages_html_futures` finish. \n",
    "\n",
    "`as_completed()` return futures in the order in which they complete. It returns an iterator that yields the input future objects in the order in which they complete. "
   ]
  },
  {
   "cell_type": "code",
   "execution_count": null,
   "id": "bf892eab-26f8-4fc5-9367-7711d52468f4",
   "metadata": {},
   "outputs": [],
   "source": [
    "from dask.distributed import as_completed"
   ]
  },
  {
   "cell_type": "code",
   "execution_count": null,
   "id": "11a3bb79-0116-40a4-8c14-9bbdbfb96652",
   "metadata": {},
   "outputs": [],
   "source": [
    "pages_html_futures = client.map(\n",
    "    get_page_html_links, range(1, 5), pure=False\n",
    ")  # use pure=False to re-compute\n",
    "\n",
    "post_links_futures = []\n",
    "for p in as_completed(pages_html_futures):\n",
    "    post_links_futures.append(client.submit(get_post_links_per_page, p))"
   ]
  },
  {
   "cell_type": "code",
   "execution_count": null,
   "id": "38a1dd26-699b-4800-b8c7-1229d3dcae00",
   "metadata": {},
   "outputs": [],
   "source": [
    "post_links_futures"
   ]
  },
  {
   "cell_type": "markdown",
   "id": "e329af0b-bf41-43b3-9163-92d58386c8d4",
   "metadata": {},
   "source": [
    "## Clean up"
   ]
  },
  {
   "cell_type": "code",
   "execution_count": null,
   "id": "b0d37a84-97ee-4969-8846-876fe43e3455",
   "metadata": {},
   "outputs": [],
   "source": [
    "cluster.shutdown()\n",
    "client.close()"
   ]
  },
  {
   "cell_type": "markdown",
   "id": "62a7a6ef-b94b-46f8-af23-1a7ef27725f4",
   "metadata": {},
   "source": [
    "### Useful links\n",
    "\n",
    "- https://tutorial.dask.org/05_futures.html\n",
    "\n",
    "**Useful links**\n",
    "\n",
    "* [Futures documentation](https://docs.dask.org/en/latest/futures.html)\n",
    "* [Futures screencast](https://www.youtube.com/watch?v=07EiCpdhtDE)\n",
    "* [Futures examples](https://examples.dask.org/futures.html)\n",
    "\n",
    "### Next lesson\n",
    "\n",
    "Register [here](https://www.coiled.io/tutorials) for reminders. \n",
    "\n",
    "In the next lesson, we’ll learn some best practices around working with larger-than-memory datasets. We’ll use the Uber/Lyft dataset to:\n",
    "\n",
    "- Manipulate Parquet files and optimize queries\n",
    "- Navigate inconvenient file sizes and data types\n",
    "- Extract useful features with Dask Dataframe\n",
    "\n",
    "By the end, we’ll learn the advantages of working with the Parquet file format and how to efficiently perform an exploratory analysis with Dask."
   ]
  }
 ],
 "metadata": {
  "kernelspec": {
   "display_name": "Python 3 (ipykernel)",
   "language": "python",
   "name": "python3"
  },
  "language_info": {
   "codemirror_mode": {
    "name": "ipython",
    "version": 3
   },
   "file_extension": ".py",
   "mimetype": "text/x-python",
   "name": "python",
   "nbconvert_exporter": "python",
   "pygments_lexer": "ipython3",
   "version": "3.9.13"
  }
 },
 "nbformat": 4,
 "nbformat_minor": 5
}
