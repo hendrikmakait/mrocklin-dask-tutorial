{
 "cells": [
  {
   "cell_type": "markdown",
   "id": "f8eafed2-77a1-4691-8e8b-aeb1187ce8f5",
   "metadata": {
    "tags": []
   },
   "source": [
    "<img src=\"http://dask.readthedocs.io/en/latest/_images/dask_horizontal.svg\"\n",
    "     align=\"right\"\n",
    "     width=\"30%\"\n",
    "     alt=\"Dask logo\\\">\n",
    "\n",
    "\n",
    "Dask DataFrames\n",
    "===============\n",
    "\n",
    "Dask dataframes are like pandas dataframes, just bigger.\n",
    "\n",
    "<img src=\"https://docs.dask.org/en/stable/_images/dask-dataframe.svg\"\n",
    "     align=\"right\"\n",
    "     width=\"30%\"\n",
    "     alt=\"Dask DataFrame is composed of pandas DataFrames\"/>\n",
    "\n",
    "\n",
    "\n",
    "API-wise they're mostly the same, except that when you want an answer, add `.compute()` to the end.\n",
    "\n",
    "```python\n",
    "# Pandas\n",
    "df.groupby(\"name\").value.mean()\n",
    "\n",
    "# Dask DataFrame\n",
    "df.groupby(\"name\").value.mean().compute()\n",
    "```\n",
    "\n",
    "This brings the result back to your local machine, so it had better be small!\n",
    "\n",
    "```python\n",
    "df.compute()  # this would be unwise\n",
    "```\n"
   ]
  },
  {
   "cell_type": "markdown",
   "id": "6ef10c79-b17d-4612-b808-ba26830d802f",
   "metadata": {},
   "source": [
    "## Ask for machines"
   ]
  },
  {
   "cell_type": "code",
   "execution_count": null,
   "id": "9a9e6076-c8b3-4282-90a4-0fe3ab49440d",
   "metadata": {
    "tags": []
   },
   "outputs": [],
   "source": [
    "import coiled\n",
    "\n",
    "cluster = coiled.Cluster(\n",
    "    n_workers=20,\n",
    "    region=\"us-east-2\",  # start workers close to data to minimize costs\n",
    "    account=\"dask-tutorials\",\n",
    ")\n",
    "\n",
    "client = cluster.get_client()"
   ]
  },
  {
   "cell_type": "markdown",
   "id": "1491663a-b4f5-46d9-9fb4-fc1f5a58421d",
   "metadata": {},
   "source": [
    "## Ingest Uber/Lyft Data\n",
    "\n",
    "\n",
    "The NYC Taxi dataset is a timeless classic.  \n",
    "\n",
    "Interestingly there is a new variant.  The NYC Taxi and Livery Commission requires data from all ride-share services in the city of New York.  This includes private limosine services, van services, and a new category \"High Volume For Hire Vehicle\" services, those that dispatch 10,000 rides per day or more.  This is a special category defined for Uber and Lyft.  "
   ]
  },
  {
   "cell_type": "code",
   "execution_count": null,
   "id": "33b598a4-fe0a-43c5-8007-0e955ac193f9",
   "metadata": {},
   "outputs": [],
   "source": [
    "import dask\n",
    "import pandas\n",
    "import dask.dataframe as dd\n",
    "import pandas as pd\n",
    "\n",
    "dask.config.set({\"dataframe.convert-string\": True})  # use PyArrow strings by default\n",
    "\n",
    "# df = pd.read_parquet(  # this would work if we had enough memory\n",
    "df = dd.read_parquet(\n",
    "    \"s3://coiled-datasets/uber-lyft-tlc/\",\n",
    "    storage_options={\"anon\": True},\n",
    ")\n",
    "df.head()"
   ]
  },
  {
   "cell_type": "code",
   "execution_count": null,
   "id": "70789360-efcd-40a0-bd28-24cb33d8dbdf",
   "metadata": {
    "tags": []
   },
   "outputs": [],
   "source": [
    "df = df.persist()"
   ]
  },
  {
   "cell_type": "markdown",
   "id": "f9d012d8-6055-4cdc-a37e-d6a01b36c7db",
   "metadata": {},
   "source": [
    "Play time\n",
    "---------\n",
    "\n",
    "We start by playing around.  We assume that you understand Pandas syntax.  Please use it to compute the following quantities:"
   ]
  },
  {
   "cell_type": "code",
   "execution_count": null,
   "id": "95a96932-2109-447c-9eb3-0d235de5e973",
   "metadata": {},
   "outputs": [],
   "source": [
    "df.columns"
   ]
  },
  {
   "cell_type": "markdown",
   "id": "7042c351-c813-4a7e-a923-1fc45b908d8c",
   "metadata": {},
   "source": [
    "How much did New Yorkers pay Uber/Lyft?  Sum the `base_passenger_fare` column."
   ]
  },
  {
   "cell_type": "code",
   "execution_count": null,
   "id": "62a36191-d619-4b6f-b923-c0d185611aa3",
   "metadata": {},
   "outputs": [],
   "source": []
  },
  {
   "cell_type": "markdown",
   "id": "d7c57df5-fd73-4d6e-847c-c7747041bc5a",
   "metadata": {},
   "source": [
    "How much did Uber/Lyft pay drivers?"
   ]
  },
  {
   "cell_type": "code",
   "execution_count": null,
   "id": "9d9a86ed-e286-48d2-8e54-52c421dc97c7",
   "metadata": {},
   "outputs": [],
   "source": []
  },
  {
   "cell_type": "markdown",
   "id": "25a05095-9a6e-44bf-bd38-dfafb386e565",
   "metadata": {},
   "source": [
    "Were there ever cases when Uber/Lyft paid drivers more than they made?  How often did this occur?"
   ]
  },
  {
   "cell_type": "code",
   "execution_count": null,
   "id": "3fc3c20c-6318-48cc-8900-65a8146fd927",
   "metadata": {},
   "outputs": [],
   "source": []
  },
  {
   "cell_type": "markdown",
   "id": "eba147d9-bea1-4073-8521-fd1329b71867",
   "metadata": {},
   "source": [
    "What fraction of rides had a non-zero tip?"
   ]
  },
  {
   "cell_type": "code",
   "execution_count": null,
   "id": "c893ca7b-94a7-4c2d-8c8e-04926c83864c",
   "metadata": {},
   "outputs": [],
   "source": []
  },
  {
   "cell_type": "markdown",
   "id": "10f285be-6839-4866-9535-43adbcc965d0",
   "metadata": {},
   "source": [
    "## Broken down by carrier\n",
    "\n",
    "If we look at the frequencies of values in the `hvfhs_licence_num` column we can identify rides as Uber/Lyft or other less common carriers."
   ]
  },
  {
   "cell_type": "code",
   "execution_count": null,
   "id": "b71729eb-f841-433a-b020-0f2b1c425355",
   "metadata": {},
   "outputs": [],
   "source": [
    "df.hvfhs_license_num.value_counts().compute()"
   ]
  },
  {
   "cell_type": "markdown",
   "id": "d3f6e586-c870-4df4-9d5f-3539f1e2881a",
   "metadata": {},
   "source": [
    "Probably HV0003 is Uber, and HV0005 is Lyft."
   ]
  },
  {
   "cell_type": "code",
   "execution_count": null,
   "id": "d19855fb-8851-4d73-b418-43673f200b96",
   "metadata": {},
   "outputs": [],
   "source": []
  },
  {
   "cell_type": "markdown",
   "id": "ba4191f1-6758-43dc-a631-e03fcd7755ca",
   "metadata": {},
   "source": [
    "How do the questions above break down by carrier?"
   ]
  },
  {
   "cell_type": "code",
   "execution_count": null,
   "id": "74cb092c-11ea-40ef-8bcb-127b540681f3",
   "metadata": {},
   "outputs": [],
   "source": []
  }
 ],
 "metadata": {
  "kernelspec": {
   "display_name": "Python 3 (ipykernel)",
   "language": "python",
   "name": "python3"
  },
  "language_info": {
   "codemirror_mode": {
    "name": "ipython",
    "version": 3
   },
   "file_extension": ".py",
   "mimetype": "text/x-python",
   "name": "python",
   "nbconvert_exporter": "python",
   "pygments_lexer": "ipython3",
   "version": "3.10.0"
  }
 },
 "nbformat": 4,
 "nbformat_minor": 5
}
