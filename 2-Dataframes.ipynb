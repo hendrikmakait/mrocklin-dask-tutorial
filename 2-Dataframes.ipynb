{
 "cells": [
  {
   "cell_type": "markdown",
   "id": "f8eafed2-77a1-4691-8e8b-aeb1187ce8f5",
   "metadata": {
    "tags": []
   },
   "source": [
    "<img src=\"http://dask.readthedocs.io/en/latest/_images/dask_horizontal.svg\"\n",
    "     align=\"right\"\n",
    "     width=\"30%\"\n",
    "     alt=\"Dask logo\\\">\n",
    "\n",
    "\n",
    "Dask DataFrames\n",
    "===============\n",
    "\n",
    "Dask dataframes are like pandas dataframes, just bigger.\n",
    "\n",
    "<img src=\"https://docs.dask.org/en/stable/_images/dask-dataframe.svg\"\n",
    "     align=\"right\"\n",
    "     width=\"30%\"\n",
    "     alt=\"Dask DataFrame is composed of pandas DataFrames\"/>\n",
    "\n"
   ]
  },
  {
   "cell_type": "markdown",
   "id": "6ef10c79-b17d-4612-b808-ba26830d802f",
   "metadata": {},
   "source": [
    "## Ask for machines"
   ]
  },
  {
   "cell_type": "code",
   "execution_count": 1,
   "id": "9a9e6076-c8b3-4282-90a4-0fe3ab49440d",
   "metadata": {
    "tags": []
   },
   "outputs": [
    {
     "data": {
      "text/html": [
       "<pre style=\"white-space:pre;overflow-x:auto;line-height:normal;font-family:Menlo,'DejaVu Sans Mono',consolas,'Courier New',monospace\">╭───────────────────────────────────────── <span style=\"color: #008000; text-decoration-color: #008000; font-weight: bold\">Coiled Cluster</span> ─────────────────────────────────────────╮\n",
       "│            <a href=\"https://cloud.coiled.io/clusters/210764/overview?account=dask-engineering\" target=\"_blank\">https://cloud.coiled.io/clusters/210764/overview?account=dask-engineering</a>             │\n",
       "╰──────────────────────────────────────────────────────────────────────────────────────────────────╯\n",
       "╭─────────────────── Overview ───────────────────╮╭──────────────── Configuration ─────────────────╮\n",
       "│                                                ││                                                │\n",
       "│ <span style=\"color: #008000; text-decoration-color: #008000; font-weight: bold\">Cluster Name:</span> dask-engineering-b9e8c218-c      ││ <span style=\"color: #008000; text-decoration-color: #008000; font-weight: bold\">Region:</span> us-east-2                              │\n",
       "│                                                ││                                                │\n",
       "│ <span style=\"color: #008000; text-decoration-color: #008000; font-weight: bold\">Scheduler Status:</span> started                      ││ <span style=\"color: #008000; text-decoration-color: #008000; font-weight: bold\">Scheduler Instance Type:</span> m6i.xlarge            │\n",
       "│                                                ││                                                │\n",
       "│ <span style=\"color: #008000; text-decoration-color: #008000; font-weight: bold\">Dashboard Address:</span>                             ││ <span style=\"color: #008000; text-decoration-color: #008000; font-weight: bold\">Worker Instance Type(s):</span> m6i.xlarge (20)       │\n",
       "│ <a href=\"https://cluster-pqpov.dask.host?token=rpOUHP9Wt0HSA_Gp\" target=\"_blank\">https://cluster-pqpov.dask.host?token=rpOUHP9W</a> ││                                                │\n",
       "│ <a href=\"https://cluster-pqpov.dask.host?token=rpOUHP9Wt0HSA_Gp\" target=\"_blank\">t0HSA_Gp</a>                                       ││ <span style=\"color: #008000; text-decoration-color: #008000; font-weight: bold\">Workers Requested:</span> 20                          │\n",
       "│                                                ││                                                │\n",
       "╰────────────────────────────────────────────────╯╰────────────────────────────────────────────────╯\n",
       "╭─────────────────────────────────── (2023/05/09 13:02:33 CEST) ───────────────────────────────────╮\n",
       "│                                                                                                  │\n",
       "│                    Most of your workers have arrived. Cluster ready for use.                     │\n",
       "│                                                                                                  │\n",
       "│                                                                                                  │\n",
       "╰──────────────────────────────────────────────────────────────────────────────────────────────────╯\n",
       "\n",
       "\n",
       "\n",
       "</pre>\n"
      ],
      "text/plain": [
       "╭───────────────────────────────────────── \u001b[1;51;32mCoiled Cluster\u001b[0m ─────────────────────────────────────────╮\n",
       "│            \u001b]8;id=526549;https://cloud.coiled.io/clusters/210764/overview?account=dask-engineering\u001b\\https://cloud.coiled.io/clusters/210764/overview?account=dask-engineering\u001b]8;;\u001b\\             │\n",
       "╰──────────────────────────────────────────────────────────────────────────────────────────────────╯\n",
       "╭─────────────────── Overview ───────────────────╮╭──────────────── Configuration ─────────────────╮\n",
       "│                                                ││                                                │\n",
       "│ \u001b[1;32mCluster Name:\u001b[0m dask-engineering-b9e8c218-c      ││ \u001b[1;32mRegion:\u001b[0m us-east-2                              │\n",
       "│                                                ││                                                │\n",
       "│ \u001b[1;32mScheduler Status:\u001b[0m started                      ││ \u001b[1;32mScheduler Instance Type:\u001b[0m m6i.xlarge            │\n",
       "│                                                ││                                                │\n",
       "│ \u001b[1;32mDashboard Address:\u001b[0m                             ││ \u001b[1;32mWorker Instance Type(s):\u001b[0m m6i.xlarge (20)       │\n",
       "│ \u001b]8;id=649502;https://cluster-pqpov.dask.host?token=rpOUHP9Wt0HSA_Gp\u001b\\https://cluster-pqpov.dask.host?token=rpOUHP9W\u001b]8;;\u001b\\ ││                                                │\n",
       "│ \u001b]8;id=649502;https://cluster-pqpov.dask.host?token=rpOUHP9Wt0HSA_Gp\u001b\\t0HSA_Gp\u001b]8;;\u001b\\                                       ││ \u001b[1;32mWorkers Requested:\u001b[0m 20                          │\n",
       "│                                                ││                                                │\n",
       "╰────────────────────────────────────────────────╯╰────────────────────────────────────────────────╯\n",
       "╭─────────────────────────────────── (2023/05/09 13:02:33 CEST) ───────────────────────────────────╮\n",
       "│                                                                                                  │\n",
       "│                    Most of your workers have arrived. Cluster ready for use.                     │\n",
       "│                                                                                                  │\n",
       "│                                                                                                  │\n",
       "╰──────────────────────────────────────────────────────────────────────────────────────────────────╯\n",
       "\n",
       "\n",
       "\n"
      ]
     },
     "metadata": {},
     "output_type": "display_data"
    },
    {
     "data": {
      "text/html": [
       "<pre style=\"white-space:pre;overflow-x:auto;line-height:normal;font-family:Menlo,'DejaVu Sans Mono',consolas,'Courier New',monospace\"></pre>\n"
      ],
      "text/plain": []
     },
     "metadata": {},
     "output_type": "display_data"
    }
   ],
   "source": [
    "import coiled\n",
    "\n",
    "cluster = coiled.Cluster(\n",
    "    n_workers=20,\n",
    "    region=\"us-east-2\",  # start workers close to data to minimize costs\n",
    ")\n",
    "\n",
    "client = cluster.get_client()"
   ]
  },
  {
   "cell_type": "markdown",
   "id": "1491663a-b4f5-46d9-9fb4-fc1f5a58421d",
   "metadata": {},
   "source": [
    "## Ingest Uber/Lyft Data\n",
    "\n",
    "\n",
    "The NYC Taxi dataset is a timeless classic.  \n",
    "\n",
    "Interestingly there is a new variant.  The NYC Taxi and Livery Commission requires data from all ride-share services in the city of New York.  This includes private limosine services, van services, and a new category \"High Volume For Hire Vehicle\" services, those that dispatch 10,000 rides per day or more.  This is a special category defined for Uber and Lyft.  "
   ]
  },
  {
   "cell_type": "code",
   "execution_count": null,
   "id": "33b598a4-fe0a-43c5-8007-0e955ac193f9",
   "metadata": {},
   "outputs": [],
   "source": [
    "import dask\n",
    "import pandas\n",
    "import dask.dataframe as dd\n",
    "import pandas as pd\n",
    "\n",
    "dask.config.set({\"dataframe.convert-string\": True})  # use PyArrow strings by default\n",
    "\n",
    "# df = pd.read_parquet(  # this would work if we had enough memory\n",
    "df = dd.read_parquet(\n",
    "    \"s3://coiled-datasets/uber-lyft-tlc/\",\n",
    "    storage_options={\"anon\": True},\n",
    ")\n",
    "df.head()"
   ]
  },
  {
   "cell_type": "markdown",
   "id": "f9d012d8-6055-4cdc-a37e-d6a01b36c7db",
   "metadata": {},
   "source": [
    "Play time\n",
    "---------\n",
    "\n",
    "We actually don't know what to expect from this dataset.  No one in our team has spent much time inspecting it.  We'd like to solicit help from you, new Dask user, to uncover some interesting insights.  \n",
    "\n",
    "Care to explore and report your findings?"
   ]
  },
  {
   "cell_type": "code",
   "execution_count": null,
   "id": "95a96932-2109-447c-9eb3-0d235de5e973",
   "metadata": {},
   "outputs": [],
   "source": [
    "df = df.persist()\n",
    "\n",
    "df.columns"
   ]
  },
  {
   "cell_type": "code",
   "execution_count": null,
   "id": "1b1002ff-6fec-410c-a99e-9f8d4c2cb729",
   "metadata": {},
   "outputs": [],
   "source": [
    "df.head()"
   ]
  },
  {
   "cell_type": "code",
   "execution_count": null,
   "id": "62a36191-d619-4b6f-b923-c0d185611aa3",
   "metadata": {},
   "outputs": [],
   "source": []
  },
  {
   "cell_type": "code",
   "execution_count": null,
   "id": "6fe483f9-ed28-440d-a2ed-b1c25aff2723",
   "metadata": {},
   "outputs": [],
   "source": []
  },
  {
   "cell_type": "code",
   "execution_count": null,
   "id": "9d9a86ed-e286-48d2-8e54-52c421dc97c7",
   "metadata": {},
   "outputs": [],
   "source": []
  },
  {
   "cell_type": "code",
   "execution_count": null,
   "id": "072e76de-c766-4f3c-8fdb-d35fd1177839",
   "metadata": {},
   "outputs": [],
   "source": []
  },
  {
   "cell_type": "markdown",
   "id": "48f4dbf8-86c6-4cfc-8125-a67ea2ddfbed",
   "metadata": {
    "tags": []
   },
   "source": [
    "## Basic statistics"
   ]
  },
  {
   "cell_type": "code",
   "execution_count": null,
   "id": "f0068858-cce5-4939-85df-7251bd0923c2",
   "metadata": {},
   "outputs": [],
   "source": [
    "total = df[[\"base_passenger_fare\", \"driver_pay\", \"tips\", \"trip_miles\"]].sum()\n",
    "average = df[[\"base_passenger_fare\", \"driver_pay\", \"tips\", \"trip_miles\"]].mean()"
   ]
  },
  {
   "cell_type": "code",
   "execution_count": null,
   "id": "e3abf9cf-303d-4b79-a541-c337a8c55f35",
   "metadata": {},
   "outputs": [],
   "source": [
    "total"
   ]
  },
  {
   "cell_type": "code",
   "execution_count": null,
   "id": "327134c9-409c-4979-acb7-e987fe86d7aa",
   "metadata": {},
   "outputs": [],
   "source": [
    "average"
   ]
  },
  {
   "cell_type": "code",
   "execution_count": null,
   "id": "ae57ee02-b8c3-4d9b-a053-2d866bb6ab14",
   "metadata": {},
   "outputs": [],
   "source": [
    "total, average = dask.compute(total, average)"
   ]
  },
  {
   "cell_type": "markdown",
   "id": "98d43c82-9a03-4311-8c17-2ef3b3519aa7",
   "metadata": {},
   "source": [
    "## Tipping Practices"
   ]
  },
  {
   "cell_type": "code",
   "execution_count": null,
   "id": "23af7df8-cf98-4e04-8cd0-829a33e65840",
   "metadata": {},
   "outputs": [],
   "source": [
    "# How often do New Yorkers tip?\n",
    "\n",
    "(df.tips != 0).mean().compute()"
   ]
  },
  {
   "cell_type": "code",
   "execution_count": null,
   "id": "6ac9e09e-1b8f-4e79-9929-fc26a753e23e",
   "metadata": {},
   "outputs": [],
   "source": []
  },
  {
   "cell_type": "code",
   "execution_count": null,
   "id": "18236b33-c27d-4d96-8a61-98d73c224744",
   "metadata": {},
   "outputs": [],
   "source": []
  },
  {
   "cell_type": "markdown",
   "id": "10f285be-6839-4866-9535-43adbcc965d0",
   "metadata": {},
   "source": [
    "## Broken down by carrier"
   ]
  },
  {
   "cell_type": "code",
   "execution_count": null,
   "id": "b71729eb-f841-433a-b020-0f2b1c425355",
   "metadata": {},
   "outputs": [],
   "source": [
    "# Uber / Lyft / Via / ... different carriers\n",
    "df.hvfhs_license_num.value_counts().compute()"
   ]
  },
  {
   "cell_type": "code",
   "execution_count": null,
   "id": "da79527d-8db9-4f7b-96fe-c87159241103",
   "metadata": {
    "tags": []
   },
   "outputs": [],
   "source": [
    "df[\"tipped\"] = df.tips != 0\n",
    "\n",
    "df.groupby(\"hvfhs_license_num\").tipped.mean().compute()"
   ]
  },
  {
   "cell_type": "code",
   "execution_count": null,
   "id": "5a6e07be-4694-496c-a323-161518ebed74",
   "metadata": {},
   "outputs": [],
   "source": []
  },
  {
   "cell_type": "code",
   "execution_count": null,
   "id": "74cb092c-11ea-40ef-8bcb-127b540681f3",
   "metadata": {},
   "outputs": [],
   "source": []
  },
  {
   "cell_type": "code",
   "execution_count": null,
   "id": "0cac5bd4-8f32-43b4-bfe0-e20767cf1db2",
   "metadata": {},
   "outputs": [],
   "source": []
  },
  {
   "cell_type": "code",
   "execution_count": null,
   "id": "6ae5e64d-4bf3-4f99-b54f-aebedfdfd98a",
   "metadata": {},
   "outputs": [],
   "source": []
  },
  {
   "cell_type": "markdown",
   "id": "7c962f9f-7308-465a-98fb-ac622a967a34",
   "metadata": {},
   "source": [
    "## Dask TV\n",
    "\n",
    "We use this in conference events just to make the dashboard go and bring in a crowd.  Colloquially we call this \"Dask TV\".  Enjoy!"
   ]
  },
  {
   "cell_type": "code",
   "execution_count": null,
   "id": "829de2bc-ed09-4e10-b06f-268aa79ead59",
   "metadata": {
    "tags": []
   },
   "outputs": [],
   "source": [
    "import dask\n",
    "dask.config.set({\"dataframe.convert-string\": True})  # use PyArrow strings by default\n",
    "\n",
    "while True:\n",
    "    client.restart()\n",
    "\n",
    "    df = dd.read_parquet(\n",
    "        \"s3://coiled-datasets/uber-lyft-tlc/\",\n",
    "        storage_options={\"anon\": True},\n",
    "    ).persist()\n",
    "\n",
    "    for _ in range(10):\n",
    "        df[\"tipped\"] = df.tips != 0\n",
    "\n",
    "        df.groupby(\"hvfhs_license_num\").tipped.mean().compute()"
   ]
  }
 ],
 "metadata": {
  "kernelspec": {
   "display_name": "Python [conda env:coiled]",
   "language": "python",
   "name": "conda-env-coiled-py"
  },
  "language_info": {
   "codemirror_mode": {
    "name": "ipython",
    "version": 3
   },
   "file_extension": ".py",
   "mimetype": "text/x-python",
   "name": "python",
   "nbconvert_exporter": "python",
   "pygments_lexer": "ipython3",
   "version": "3.10.0"
  }
 },
 "nbformat": 4,
 "nbformat_minor": 5
}
